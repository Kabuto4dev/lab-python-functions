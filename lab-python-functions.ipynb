{
 "cells": [
  {
   "cell_type": "markdown",
   "id": "25d7736c-ba17-4aff-b6bb-66eba20fbf4e",
   "metadata": {},
   "source": [
    "# Lab | Functions"
   ]
  },
  {
   "cell_type": "markdown",
   "id": "0c581062-8967-4d93-b06e-62833222f930",
   "metadata": {
    "tags": []
   },
   "source": [
    "## Exercise: Managing Customer Orders with Functions\n",
    "\n",
    "In the previous exercise, you improved the code for managing customer orders by using loops and flow control. Now, let's take it a step further and refactor the code by introducing functions.\n",
    "\n",
    "Follow the steps below to complete the exercise:\n",
    "\n",
    "1. Define a function named `initialize_inventory` that takes `products` as a parameter. Inside the function, implement the code for initializing the inventory dictionary using a loop and user input.\n",
    "\n",
    "2. Define a function named `get_customer_orders` that takes no parameters. Inside the function, implement the code for prompting the user to enter the product names using a loop. The function should return the `customer_orders` set.\n",
    "\n",
    "3. Define a function named `update_inventory` that takes `customer_orders` and `inventory` as parameters. Inside the function, implement the code for updating the inventory dictionary based on the customer orders.\n",
    "\n",
    "4. Define a function named `calculate_order_statistics` that takes `customer_orders` and `products` as parameters. Inside the function, implement the code for calculating the order statistics (total products ordered, and percentage of unique products ordered). The function should return these values.\n",
    "\n",
    "5. Define a function named `print_order_statistics` that takes `order_statistics` as a parameter. Inside the function, implement the code for printing the order statistics.\n",
    "\n",
    "6. Define a function named `print_updated_inventory` that takes `inventory` as a parameter. Inside the function, implement the code for printing the updated inventory.\n",
    "\n",
    "7. Call the functions in the appropriate sequence to execute the program and manage customer orders.\n",
    "\n",
    "Hints for functions:\n",
    "\n",
    "- Consider the input parameters required for each function and their return values.\n",
    "- Utilize function parameters and return values to transfer data between functions.\n",
    "- Test your functions individually to ensure they work correctly.\n",
    "\n",
    "\n"
   ]
  },
  {
   "cell_type": "code",
   "execution_count": 5,
   "id": "1f7d89f1",
   "metadata": {},
   "outputs": [],
   "source": [
    "# 1.Define a function initializing, the inventory dictionary using a loop and user input\n",
    "\n",
    "products = (\"t-shirt\", \"mug\", \"hat\", \"book\", \"keychain\")\n",
    "products_inv = {\"t-shirt\":0, \"mug\":0, \"hat\":0, \"book\":0, \"keychain\":0}\n",
    "\n",
    "def initialize_inventory (products):\n",
    "    \n",
    "    for key in products_inv:\n",
    "        products_inv [key] = int(input(\"Enter quantity of \" + key + \":\"))\n",
    "    return (products_inv)"
   ]
  },
  {
   "cell_type": "code",
   "execution_count": 6,
   "id": "62f7070d",
   "metadata": {},
   "outputs": [
    {
     "name": "stdout",
     "output_type": "stream",
     "text": [
      "Enter quantity of t-shirt:10\n",
      "Enter quantity of mug:20\n",
      "Enter quantity of hat:30\n",
      "Enter quantity of book:40\n",
      "Enter quantity of keychain:50\n"
     ]
    }
   ],
   "source": [
    "initialize_inventory_output = initialize_inventory (products)"
   ]
  },
  {
   "cell_type": "code",
   "execution_count": 7,
   "id": "23a748e2",
   "metadata": {},
   "outputs": [],
   "source": [
    "# 2. Prompting the user to enter the product names:\n",
    "\n",
    "def get_customer_orders():\n",
    "    customer_orders = set()\n",
    "    \n",
    "    decision = 'Yes'\n",
    "    while decision == 'Yes':\n",
    "        select_pr = input (\"Enter the product you want to order:\")\n",
    "        if select_pr in products_inv:\n",
    "            print (\"You've purchased a: \", select_pr)\n",
    "            customer_orders.add(select_pr)\n",
    "\n",
    "        else:\n",
    "            print (\"The product you selected is not available.\")\n",
    "        decision = input(\"Do you want to buy anything else? Yes/No: \")\n",
    "        \n",
    "        \n",
    "    print (\"You've finished your purchase.\")\n",
    "    return customer_orders"
   ]
  },
  {
   "cell_type": "code",
   "execution_count": 9,
   "id": "476d6513",
   "metadata": {},
   "outputs": [
    {
     "name": "stdout",
     "output_type": "stream",
     "text": [
      "Enter the product you want to order:mug\n",
      "You've purchased a:  mug\n",
      "Do you want to buy anything else? Yes/No: Yes\n",
      "Enter the product you want to order:hat\n",
      "You've purchased a:  hat\n",
      "Do you want to buy anything else? Yes/No: No\n",
      "You've finished your purchase.\n"
     ]
    }
   ],
   "source": [
    "get_customer_orders_output = get_customer_orders()"
   ]
  },
  {
   "cell_type": "code",
   "execution_count": 10,
   "id": "0a5781ef",
   "metadata": {},
   "outputs": [
    {
     "name": "stdout",
     "output_type": "stream",
     "text": [
      "{'mug', 'hat'}\n"
     ]
    }
   ],
   "source": [
    "print (get_customer_orders_output)"
   ]
  },
  {
   "cell_type": "code",
   "execution_count": 13,
   "id": "ca733525",
   "metadata": {},
   "outputs": [],
   "source": [
    "# 3. Update inventory with orders:\n",
    "\n",
    "def update_inventory (customer_orders, products_inv):\n",
    "    for order in customer_orders:\n",
    "        if order in products_inv:\n",
    "            products_inv[order] -= 1  # Decrement the quantity of the ordered product by 1\n",
    "        else:\n",
    "            print(\"Error: Product\", order, \"not found in inventory.\")\n",
    "    return products_inv\n"
   ]
  },
  {
   "cell_type": "code",
   "execution_count": 14,
   "id": "9df44abe",
   "metadata": {},
   "outputs": [],
   "source": [
    "updated_inventory = update_inventory(get_customer_orders_output, products_inv)"
   ]
  },
  {
   "cell_type": "code",
   "execution_count": 15,
   "id": "001a6292",
   "metadata": {},
   "outputs": [
    {
     "name": "stdout",
     "output_type": "stream",
     "text": [
      "Updated Inventory: {'t-shirt': 10, 'mug': 19, 'hat': 29, 'book': 40, 'keychain': 50}\n"
     ]
    }
   ],
   "source": [
    "print(\"Updated Inventory:\", updated_inventory)"
   ]
  },
  {
   "cell_type": "code",
   "execution_count": 16,
   "id": "a5c5dee6",
   "metadata": {},
   "outputs": [],
   "source": [
    "# 4. Calculating the order statistics (total products ordered, and percentage of unique products ordered).\n",
    "\n",
    "def calculate_order_statistics(customer_orders, products):\n",
    "    total_products_ordered = len(customer_orders)  # Calculates the total number of products ordered\n",
    "    unique_products_ordered = len(set(customer_orders))  # Calculates the number of unique products ordered\n",
    "    \n",
    "    # Calculates the percentage of unique products ordered compared to the total number of products\n",
    "    percentage_unique_products = (unique_products_ordered / len(products)) * 100\n",
    "\n",
    "    return total_products_ordered, percentage_unique_products"
   ]
  },
  {
   "cell_type": "code",
   "execution_count": 17,
   "id": "44db6654",
   "metadata": {},
   "outputs": [],
   "source": [
    "total_ordered, percentage_unique = calculate_order_statistics(get_customer_orders_output, products)\n"
   ]
  },
  {
   "cell_type": "code",
   "execution_count": 18,
   "id": "0041fb5d",
   "metadata": {},
   "outputs": [
    {
     "name": "stdout",
     "output_type": "stream",
     "text": [
      "Total Products Ordered: 2\n",
      "Percentage of Unique Products Ordered: 40.0\n"
     ]
    }
   ],
   "source": [
    "print(\"Total Products Ordered:\", total_ordered)\n",
    "print(\"Percentage of Unique Products Ordered:\", percentage_unique)"
   ]
  },
  {
   "cell_type": "code",
   "execution_count": 21,
   "id": "078a3aab",
   "metadata": {},
   "outputs": [],
   "source": [
    "# 5. Define a function named print_order_statistics that takes order_statistics\n",
    "\n",
    "def print_order_statistics(order_statistics):\n",
    "    total_ordered, percentage_unique = order_statistics\n",
    "    \n",
    "    print(\"Order Statistics:\")\n",
    "    print(\"-----------------\")\n",
    "    print(\"Total Products Ordered:\", total_ordered)\n",
    "    print(\"Percentage of Unique Products Ordered:\", percentage_unique, \"%\")"
   ]
  },
  {
   "cell_type": "code",
   "execution_count": 22,
   "id": "bfd711df",
   "metadata": {},
   "outputs": [
    {
     "name": "stdout",
     "output_type": "stream",
     "text": [
      "Order Statistics:\n",
      "-----------------\n",
      "Total Products Ordered: 2\n",
      "Percentage of Unique Products Ordered: 40.0 %\n"
     ]
    }
   ],
   "source": [
    "print_order_statistics((total_ordered, percentage_unique))"
   ]
  },
  {
   "cell_type": "code",
   "execution_count": 29,
   "id": "1a36f674",
   "metadata": {},
   "outputs": [],
   "source": [
    "# 6. Define a function named print_updated_inventory that takes inventory\n",
    "\n",
    "def print_updated_inventory(inventory):\n",
    "    print(\"Updated Inventory:\")\n",
    "    print(\"------------------\")\n",
    "    for product, quantity in inventory.items():\n",
    "        print({product},\":\",{quantity})"
   ]
  },
  {
   "cell_type": "code",
   "execution_count": 30,
   "id": "dc37dd36",
   "metadata": {},
   "outputs": [
    {
     "name": "stdout",
     "output_type": "stream",
     "text": [
      "Updated Inventory:\n",
      "------------------\n",
      "{'t-shirt'} : {10}\n",
      "{'mug'} : {19}\n",
      "{'hat'} : {29}\n",
      "{'book'} : {40}\n",
      "{'keychain'} : {50}\n"
     ]
    }
   ],
   "source": [
    "# Prueba de la función print_updated_inventory\n",
    "print_updated_inventory(updated_inventory)"
   ]
  },
  {
   "cell_type": "code",
   "execution_count": 31,
   "id": "8bcda80d",
   "metadata": {},
   "outputs": [
    {
     "name": "stdout",
     "output_type": "stream",
     "text": [
      "Enter quantity of t-shirt:10\n",
      "Enter quantity of mug:20\n",
      "Enter quantity of hat:30\n",
      "Enter quantity of book:40\n",
      "Enter quantity of keychain:50\n",
      "Enter the product you want to order:hat\n",
      "You've purchased a:  hat\n",
      "Do you want to buy anything else? Yes/No: Yes\n",
      "Enter the product you want to order:mug\n",
      "You've purchased a:  mug\n",
      "Do you want to buy anything else? Yes/No: No\n",
      "You've finished your purchase.\n",
      "Order Statistics:\n",
      "-----------------\n",
      "Total Products Ordered: 2\n",
      "Percentage of Unique Products Ordered: 40.0 %\n",
      "Updated Inventory:\n",
      "------------------\n",
      "{'t-shirt'} : {10}\n",
      "{'mug'} : {19}\n",
      "{'hat'} : {29}\n",
      "{'book'} : {40}\n",
      "{'keychain'} : {50}\n"
     ]
    }
   ],
   "source": [
    "# Call the functions in the appropriate sequence to execute the program and manage customer orders.\n",
    "\n",
    "# 1. Initialize inventory:\n",
    "products = (\"t-shirt\", \"mug\", \"hat\", \"book\", \"keychain\")\n",
    "products_inv = {\"t-shirt\": 0, \"mug\": 0, \"hat\": 0, \"book\": 0, \"keychain\": 0}\n",
    "initialize_inventory_output = initialize_inventory(products)\n",
    "\n",
    "# 2. Obtain customer orders:\n",
    "get_customer_orders_output = get_customer_orders()\n",
    "\n",
    "# 3. Actualize inventory with customer orders:\n",
    "updated_inventory = update_inventory(get_customer_orders_output, products_inv)\n",
    "\n",
    "# 4. Caculate orders statistics \n",
    "order_statistics = calculate_order_statistics(get_customer_orders_output, products)\n",
    "\n",
    "# 5. Print order statistics\n",
    "print_order_statistics(order_statistics)\n",
    "\n",
    "# 6. Print updated inventory\n",
    "print_updated_inventory(updated_inventory)"
   ]
  },
  {
   "cell_type": "code",
   "execution_count": null,
   "id": "64c6453a",
   "metadata": {},
   "outputs": [],
   "source": []
  }
 ],
 "metadata": {
  "kernelspec": {
   "display_name": "Python 3 (ipykernel)",
   "language": "python",
   "name": "python3"
  },
  "language_info": {
   "codemirror_mode": {
    "name": "ipython",
    "version": 3
   },
   "file_extension": ".py",
   "mimetype": "text/x-python",
   "name": "python",
   "nbconvert_exporter": "python",
   "pygments_lexer": "ipython3",
   "version": "3.9.7"
  }
 },
 "nbformat": 4,
 "nbformat_minor": 5
}
